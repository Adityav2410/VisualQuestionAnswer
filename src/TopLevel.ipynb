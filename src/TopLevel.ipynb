{
 "cells": [
  {
   "cell_type": "code",
   "execution_count": 1,
   "metadata": {
    "collapsed": false
   },
   "outputs": [],
   "source": [
    "import numpy as np\n",
    "import tensorflow as tf\n",
    "import matplotlib.pyplot as plt\n",
    "import os\n",
    "import random\n",
    "import pickle\n",
    "import time\n",
    "import vgg16.utils as vgg_utils"
   ]
  },
  {
   "cell_type": "code",
   "execution_count": 2,
   "metadata": {
    "collapsed": false
   },
   "outputs": [
    {
     "name": "stdout",
     "output_type": "stream",
     "text": [
      "/home/adityav/ADITYA/Project/ECE285_Trivedi/VQA/src/vgg16/vgg16.npy\n",
      "npy file loaded\n",
      "build model started\n",
      "build model finished: 0s\n"
     ]
    }
   ],
   "source": [
    "dirpath = '/home/adityav/ADITYA/Project/ECE285_Trivedi/VQA/src/Data/train2014';\n",
    "sess,vgg,images = vgg_utils.getVGGhandle()"
   ]
  },
  {
   "cell_type": "code",
   "execution_count": 10,
   "metadata": {
    "collapsed": false
   },
   "outputs": [
    {
     "name": "stdout",
     "output_type": "stream",
     "text": [
      "('Number of image features in the list:', 10)\n",
      "Time to extract features: 7s\n",
      "(10, 14, 14, 512)\n",
      "10\n"
     ]
    }
   ],
   "source": [
    "startTime = time.time()\n",
    "[featureList, fileName] = vgg_utils.getImageFeatures(sess,vgg,images,dirpath,batchSize = 100,numImages = 10)\n",
    "print('Time to extract features: {:1.0f}s'.format(time.time()-startTime) )\n",
    "\n",
    "\n",
    "print featureList.shape\n",
    "print len(fileName)"
   ]
  }
 ],
 "metadata": {
  "kernelspec": {
   "display_name": "cv",
   "language": "python",
   "name": "cv"
  },
  "language_info": {
   "codemirror_mode": {
    "name": "ipython",
    "version": 2
   },
   "file_extension": ".py",
   "mimetype": "text/x-python",
   "name": "python",
   "nbconvert_exporter": "python",
   "pygments_lexer": "ipython2",
   "version": "2.7.12"
  }
 },
 "nbformat": 4,
 "nbformat_minor": 2
}
