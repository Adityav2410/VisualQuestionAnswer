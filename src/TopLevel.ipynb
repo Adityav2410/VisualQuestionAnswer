{
 "cells": [
  {
   "cell_type": "code",
   "execution_count": 1,
   "metadata": {
    "collapsed": false
   },
   "outputs": [],
   "source": [
    "import numpy as np\n",
    "import tensorflow as tf\n",
    "import matplotlib.pyplot as plt\n",
    "import os\n",
    "import random\n",
    "import pickle\n",
    "import time\n",
    "import json\n",
    "import pandas as pd\n",
    "import vgg16.utils as vgg_utils"
   ]
  },
  {
   "cell_type": "code",
   "execution_count": 2,
   "metadata": {
    "collapsed": true
   },
   "outputs": [],
   "source": [
    "dirpath = '/home/adityav/ADITYA/Project/Cogs_Image_Caption/VisualQuestionAnswer/data/'"
   ]
  },
  {
   "cell_type": "code",
   "execution_count": 5,
   "metadata": {
    "collapsed": false
   },
   "outputs": [
    {
     "name": "stdout",
     "output_type": "stream",
     "text": [
      "/home/adityav/ADITYA/Project/Cogs_Image_Caption/VisualQuestionAnswer/src/vgg16/vgg16.npy\n",
      "npy file loaded\n",
      "build model started\n",
      "build model finished: 0s\n",
      "('Number of image features in the list:', 10)\n",
      "Time to extract features: 8s\n",
      "(10, 14, 14, 512)\n",
      "10\n"
     ]
    }
   ],
   "source": [
    "imagePath = os.path.join(dirpath + 'train2014/')\n",
    "sess,vgg,images = vgg_utils.getVGGhandle()\n",
    "startTime = time.time()\n",
    "[featureList, fileName] = vgg_utils.getImageFeatures(sess,vgg,images,dirpath,batchSize = 100,numImages = 10)\n",
    "print('Time to extract features: {:1.0f}s'.format(time.time()-startTime) )\n",
    "print featureList.shape\n",
    "print len(fileName)\n",
    "sess.close()"
   ]
  },
  {
   "cell_type": "code",
   "execution_count": 13,
   "metadata": {
    "collapsed": false
   },
   "outputs": [
    {
     "name": "stdout",
     "output_type": "stream",
     "text": [
      "Loading Training questions\n"
     ]
    }
   ],
   "source": [
    "t_q_json_file = os.path.join(dirpath,'MultipleChoice_mscoco_train2014_questions.json')\n",
    "print \"Loading Training questions\"\n",
    "with open(t_q_json_file) as f:\n",
    "    t_questions = json.loads(f.read())\n",
    "t_questions = t_questions['questions']"
   ]
  },
  {
   "cell_type": "code",
   "execution_count": 16,
   "metadata": {
    "collapsed": false
   },
   "outputs": [
    {
     "data": {
      "text/plain": [
       "[u'image_id', u'question_id', u'question', u'multiple_choices']"
      ]
     },
     "execution_count": 16,
     "metadata": {},
     "output_type": "execute_result"
    }
   ],
   "source": [
    "t_questions[0].keys()"
   ]
  },
  {
   "cell_type": "code",
   "execution_count": 22,
   "metadata": {
    "collapsed": false
   },
   "outputs": [
    {
     "data": {
      "text/plain": [
       "{u'image_id': 487025,\n",
       " u'multiple_choices': [u'square',\n",
       "  u'1',\n",
       "  u'w 26th st',\n",
       "  u'white',\n",
       "  u'rectangular',\n",
       "  u'2',\n",
       "  u'red',\n",
       "  u'3',\n",
       "  u'blue',\n",
       "  u'4',\n",
       "  u'yellow sign',\n",
       "  u'curved',\n",
       "  u'green',\n",
       "  u'no',\n",
       "  u'rectangle',\n",
       "  u'croatia express',\n",
       "  u'medal',\n",
       "  u'yes'],\n",
       " u'question': u'What shape is the bench seat?',\n",
       " u'question_id': 4870250}"
      ]
     },
     "execution_count": 22,
     "metadata": {},
     "output_type": "execute_result"
    }
   ],
   "source": [
    "t_questions[0]"
   ]
  }
 ],
 "metadata": {
  "kernelspec": {
   "display_name": "cv",
   "language": "python",
   "name": "cv"
  },
  "language_info": {
   "codemirror_mode": {
    "name": "ipython",
    "version": 2
   },
   "file_extension": ".py",
   "mimetype": "text/x-python",
   "name": "python",
   "nbconvert_exporter": "python",
   "pygments_lexer": "ipython2",
   "version": "2.7.12"
  }
 },
 "nbformat": 4,
 "nbformat_minor": 2
}
