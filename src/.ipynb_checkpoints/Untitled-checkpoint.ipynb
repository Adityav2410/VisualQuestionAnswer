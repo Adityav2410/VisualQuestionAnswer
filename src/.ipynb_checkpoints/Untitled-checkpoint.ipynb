{
 "cells": [
  {
   "cell_type": "code",
   "execution_count": 1,
   "metadata": {},
   "outputs": [
    {
     "name": "stderr",
     "output_type": "stream",
     "text": [
      "usage: ipykernel_launcher.py [-h] [-p QUESTION_DATA_PATH] [-i IMAGE_BASE_PATH]\n",
      "                             [-m MODEL_DIR] [-b BATCHSIZE] [-e NUM_EPOCHS]\n",
      "                             [-t TASK_TO_PERFORM]\n",
      "ipykernel_launcher.py: error: unrecognized arguments: -f /run/user/1000/jupyter/kernel-fd5fc39a-53b1-4a1a-a278-6805bd03e06a.json\n"
     ]
    },
    {
     "ename": "SystemExit",
     "evalue": "2",
     "output_type": "error",
     "traceback": [
      "An exception has occurred, use %tb to see the full traceback.\n",
      "\u001b[0;31mSystemExit\u001b[0m\u001b[0;31m:\u001b[0m 2\n"
     ]
    },
    {
     "name": "stderr",
     "output_type": "stream",
     "text": [
      "/home/adityav/.virtualenvs/cv/local/lib/python2.7/site-packages/IPython/core/interactiveshell.py:2889: UserWarning: To exit: use 'exit', 'quit', or Ctrl-D.\n",
      "  warn(\"To exit: use 'exit', 'quit', or Ctrl-D.\", stacklevel=1)\n"
     ]
    }
   ],
   "source": [
    "import argparse\n",
    "import os\n",
    "import sys\n",
    "import tensorflow as tf\n",
    "from model import *\n",
    "from train import trainNetwork\n",
    "from config import Config\n",
    "from test import testNetwork\n",
    "from pdb import set_trace as bp\n",
    "\n",
    "def parse_args(C):\n",
    "\tparser = argparse.ArgumentParser()\n",
    "\tparser.add_argument('-p','--qs_path',dest='question_data_path',help='Enter the path for questions data base',default=None,type=str)\n",
    "\tparser.add_argument('-i','--image_path',dest='image_base_path',help='Enter the path for image data base',default=None,type=str)\n",
    "\tparser.add_argument('-m','--model_path',dest='model_dir',help='Enter the path from where to save/restore the model',default=None,type=str)\n",
    "\tparser.add_argument('-b','--batchsize',dest='batchSize',help='Enter the batch size',default=None,type=int)\n",
    "\tparser.add_argument('-e','--epochs',dest='num_epochs',help='Enter the number of epochs',default=None,type=int)\n",
    "\tparser.add_argument('-t','--task',dest='task_to_perform',help=\"Enter task to perform: train or test\",default=None,type=str)\n",
    "\targs = parser.parse_args()\n",
    "\n",
    "\tif args.question_data_path:\n",
    "\t\tC.question_data_path = args.question_data_path\n",
    "\tif args.image_base_path:\n",
    "\t\tC.image_base_path = args.image_base_path\n",
    "\tif args.model_dir:\n",
    "\t\tC.model_dir = args.model_dir\n",
    "\n",
    "\tif args.batchSize:\n",
    "\t\tC.batchSize = args.batchSize\n",
    "\tif args.num_epochs:\n",
    "\t\tC.num_epochs = args.num_epochs\n",
    "\tif args.task_to_perform:\n",
    "\t\tC.task_to_perform = args.task_to_perform\n",
    "\t# return args\n",
    "\n",
    "\n",
    "if __name__ == '__main__':\n",
    "\t\n",
    "\tC = Config()\n",
    "# \tparse_args(C)\n",
    "\t# args = parse_args(C)\n",
    "\tif not os.path.exists('../logs'):\n",
    "\t\tos.makedirs('../logs')\n",
    "\n",
    "\n",
    "\twith tf.Session() as sess:\n",
    "\n",
    "\t\t###################### Load model #######################\n",
    "\t\t# bp() \n",
    "\t\tnet = Model(sess=sess,batchSize=C.batchSize,C = C)\n",
    "\t\tnet.build_network()\n",
    "\n",
    "\t\t# either restore model or initialize model\n",
    "\t\tsaver_all = tf.train.Saver()\n",
    "\t\tckpt = tf.train.get_checkpoint_state(C.model_dir)\n",
    "\t\t# if ckpt and tf.gfile.Exists(ckpt.model_checkpoint_path):\n",
    "\t\tif ckpt and ckpt.model_checkpoint_path:\n",
    "\t\t\tprint \"Restoring Model from \", ckpt.model_checkpoint_path\n",
    "\t\t\tsaver_all.restore(sess, ckpt.model_checkpoint_path)\n",
    "\t\telse:\n",
    "\t\t\tprint \"Initializing Model\"\n",
    "\t\t\tsess.run(tf.global_variables_initializer())\n",
    "\t\t\n",
    "\t\tif(C.verbose):\n",
    "\t\t\tnet.print_variables()\n",
    "\t\tnet.write_tensorboard()\n",
    "\n",
    "\n",
    "\t\tif(C.task_to_perform == 'train'):\n",
    "\t\t\ttrainNetwork(sess, net,C.num_epochs, C, saver_all)\n",
    "\t\t\tsaver_all.save(sess,'checkpoints/vqa')\n",
    "\t\tif(C.task_to_perform  == 'test'):\n",
    "\t\t\ttestNetwork(sess,net, C)\n",
    "\n",
    "\t\t# if(args.task_to_perform == 'test'):\n",
    "\t\t# \ttestNetwork(sess, net)"
   ]
  }
 ],
 "metadata": {
  "kernelspec": {
   "display_name": "cv",
   "language": "python",
   "name": "cv"
  },
  "language_info": {
   "codemirror_mode": {
    "name": "ipython",
    "version": 2
   },
   "file_extension": ".py",
   "mimetype": "text/x-python",
   "name": "python",
   "nbconvert_exporter": "python",
   "pygments_lexer": "ipython2",
   "version": "2.7.12"
  }
 },
 "nbformat": 4,
 "nbformat_minor": 2
}
