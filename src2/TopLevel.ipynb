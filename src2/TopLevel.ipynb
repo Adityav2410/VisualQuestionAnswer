{
 "cells": [
  {
   "cell_type": "code",
   "execution_count": 1,
   "metadata": {
    "collapsed": true
   },
   "outputs": [],
   "source": [
    "import numpy as np\n",
    "import tensorflow as tf\n",
    "import matplotlib.pyplot as plt\n",
    "import os\n",
    "import random\n",
    "import pickle\n",
    "import time\n",
    "import json\n",
    "import pandas as pd\n",
    "import data_loader\n",
    "import config\n",
    "import re"
   ]
  },
  {
   "cell_type": "code",
   "execution_count": 3,
   "metadata": {},
   "outputs": [
    {
     "name": "stdout",
     "output_type": "stream",
     "text": [
      "/home/adityav/ADITYA/Project/Cogs_Image_Caption/VisualQuestionAnswer/src2/vgg16/vgg16.npy\n",
      "npy file loaded\n",
      "build model started\n",
      "build model finished: 0s\n"
     ]
    },
    {
     "ename": "NameError",
     "evalue": "name 'sess' is not defined",
     "output_type": "error",
     "traceback": [
      "\u001b[0;31m---------------------------------------------------------------------------\u001b[0m",
      "\u001b[0;31mNameError\u001b[0m                                 Traceback (most recent call last)",
      "\u001b[0;32m<ipython-input-3-54ea6384041e>\u001b[0m in \u001b[0;36m<module>\u001b[0;34m()\u001b[0m\n\u001b[1;32m      7\u001b[0m \u001b[0mquestion_vocab\u001b[0m \u001b[0;34m=\u001b[0m \u001b[0mqa_data\u001b[0m\u001b[0;34m[\u001b[0m\u001b[0;34m'question_vocab'\u001b[0m\u001b[0;34m]\u001b[0m\u001b[0;34m\u001b[0m\u001b[0m\n\u001b[1;32m      8\u001b[0m \u001b[0manswer_vocab\u001b[0m \u001b[0;34m=\u001b[0m \u001b[0mqa_data\u001b[0m\u001b[0;34m[\u001b[0m\u001b[0;34m'answer_vocab'\u001b[0m\u001b[0;34m]\u001b[0m\u001b[0;34m\u001b[0m\u001b[0m\n\u001b[0;32m----> 9\u001b[0;31m \u001b[0mtrain_data_generator\u001b[0m \u001b[0;34m=\u001b[0m \u001b[0mdata_loader\u001b[0m\u001b[0;34m.\u001b[0m\u001b[0mgetNextBatch\u001b[0m\u001b[0;34m(\u001b[0m\u001b[0msess\u001b[0m\u001b[0;34m,\u001b[0m\u001b[0mvgg\u001b[0m\u001b[0;34m,\u001b[0m\u001b[0mimages\u001b[0m\u001b[0;34m,\u001b[0m\u001b[0mdata_training\u001b[0m\u001b[0;34m,\u001b[0m\u001b[0mquestion_vocab\u001b[0m\u001b[0;34m,\u001b[0m\u001b[0manswer_vocab\u001b[0m\u001b[0;34m,\u001b[0m\u001b[0mC\u001b[0m\u001b[0;34m.\u001b[0m\u001b[0mimagePath\u001b[0m\u001b[0;34m,\u001b[0m \u001b[0mbatchSize\u001b[0m \u001b[0;34m=\u001b[0m \u001b[0mC\u001b[0m\u001b[0;34m.\u001b[0m\u001b[0mbatchSize\u001b[0m\u001b[0;34m)\u001b[0m\u001b[0;34m\u001b[0m\u001b[0m\n\u001b[0m",
      "\u001b[0;31mNameError\u001b[0m: name 'sess' is not defined"
     ]
    }
   ],
   "source": [
    "C = config.Config()\n",
    "vgg,images = data_loader.getVGGhandle()\n",
    "qa_data = data_loader.load_questions_answers(C.datapath)\n",
    "\n",
    "data_validation = qa_data['validation']\n",
    "data_training = qa_data['training']\n",
    "question_vocab = qa_data['question_vocab']\n",
    "answer_vocab = qa_data['answer_vocab']\n",
    "# train_data_generator = data_loader.getNextBatch(sess,vgg,images,data_training,question_vocab,answer_vocab,C.imagePath, batchSize = C.batchSize)"
   ]
  },
  {
   "cell_type": "code",
   "execution_count": 5,
   "metadata": {},
   "outputs": [
    {
     "data": {
      "text/plain": [
       "215239"
      ]
     },
     "execution_count": 5,
     "metadata": {},
     "output_type": "execute_result"
    }
   ],
   "source": [
    "len(data_training)"
   ]
  },
  {
   "cell_type": "code",
   "execution_count": 6,
   "metadata": {},
   "outputs": [
    {
     "data": {
      "text/plain": [
       "{'answer': 0,\n",
       " 'image_id': 487025,\n",
       " 'question': array([     0.,      0.,      0.,      0.,      0.,      0.,      0.,\n",
       "             0.,      0.,      0.,      0.,      0.,      0.,      0.,\n",
       "             0.,      0.,      0.,      0.,  13043.,  13202.,   5876.,\n",
       "           753.])}"
      ]
     },
     "execution_count": 6,
     "metadata": {},
     "output_type": "execute_result"
    }
   ],
   "source": [
    "data_training[0]"
   ]
  },
  {
   "cell_type": "code",
   "execution_count": 40,
   "metadata": {
    "collapsed": true
   },
   "outputs": [],
   "source": [
    "ansList = []\n",
    "for i, quest in enumerate(data_training):\n",
    "    ansList.append(quest['answer'])"
   ]
  },
  {
   "cell_type": "code",
   "execution_count": 42,
   "metadata": {},
   "outputs": [
    {
     "data": {
      "text/plain": [
       "215239"
      ]
     },
     "execution_count": 42,
     "metadata": {},
     "output_type": "execute_result"
    }
   ],
   "source": [
    "len(ansList)"
   ]
  },
  {
   "cell_type": "code",
   "execution_count": 48,
   "metadata": {},
   "outputs": [
    {
     "data": {
      "text/plain": [
       "(array([  2.72854826e-01,   1.71530252e-01,   3.76604612e-02,\n",
       "          2.19012354e-02,   2.07211518e-02,   2.03355340e-02,\n",
       "          1.68092214e-02,   1.51784760e-02,   1.19727373e-02,\n",
       "          1.11271656e-02,   1.05417698e-02,   8.65549459e-03,\n",
       "          7.72164896e-03,   6.88072329e-03,   5.11988998e-03,\n",
       "          4.92940406e-03,   4.72962614e-03,   4.42763626e-03,\n",
       "          4.16281436e-03,   4.27896431e-03,   4.28361031e-03,\n",
       "          3.92586845e-03,   4.12564637e-03,   3.93980645e-03,\n",
       "          3.80971850e-03,   3.40087066e-03,   3.40551666e-03,\n",
       "          2.60640497e-03,   2.84335088e-03,   2.65286495e-03,\n",
       "          2.50419301e-03,   2.75972291e-03,   2.61105097e-03,\n",
       "          2.57852898e-03,   2.44844104e-03,   2.35552107e-03,\n",
       "          2.33693708e-03,   2.33693708e-03,   2.26724711e-03,\n",
       "          2.09999117e-03,   1.99777921e-03,   1.96061123e-03,\n",
       "          2.07676118e-03,   2.01636321e-03,   1.99313321e-03,\n",
       "          1.90021325e-03,   1.77941730e-03,   1.88162926e-03,\n",
       "          1.70043533e-03,   1.66326734e-03,   1.83052328e-03,\n",
       "          1.72831132e-03,   1.64932935e-03,   1.72831132e-03,\n",
       "          1.68649734e-03,   1.53782539e-03,   1.47742742e-03,\n",
       "          1.46348942e-03,   1.52853340e-03,   1.51459540e-03,\n",
       "          1.44955143e-03,   1.47278142e-03,   1.44025943e-03,\n",
       "          1.31481748e-03,   1.39379945e-03,   1.36592346e-03,\n",
       "          1.33340147e-03,   1.23118951e-03,   1.33340147e-03,\n",
       "          1.28229549e-03,   1.31946348e-03,   1.19402153e-03,\n",
       "          1.25906550e-03,   1.20331353e-03,   1.29158749e-03,\n",
       "          1.23118951e-03,   1.20331353e-03,   1.24977351e-03,\n",
       "          1.12897756e-03,   1.07787158e-03,   1.05928758e-03,\n",
       "          1.15685354e-03,   1.07787158e-03,   1.04534959e-03,\n",
       "          1.00353560e-03,   1.00818160e-03,   9.94243608e-04,\n",
       "          9.57075623e-04,   1.05464158e-03,   9.61721621e-04,\n",
       "          1.02211960e-03,   8.36279671e-04,   9.89597610e-04,\n",
       "          8.26987674e-04,   8.68801658e-04,   8.92031649e-04,\n",
       "          8.92031649e-04,   8.68801658e-04,   8.68801658e-04,\n",
       "          8.96677647e-04,   8.68801658e-04,   7.61943700e-04,\n",
       "          7.43359707e-04,   8.78093654e-04,   7.75881694e-04,\n",
       "          8.03757683e-04,   7.52651703e-04,   8.03757683e-04,\n",
       "          8.31633672e-04,   7.99111685e-04,   8.08403681e-04,\n",
       "          7.38713709e-04,   7.89819689e-04,   7.06191722e-04,\n",
       "          7.34067711e-04,   6.82961731e-04,   7.48005705e-04,\n",
       "          7.75881694e-04,   6.87607729e-04,   7.15483718e-04,\n",
       "          6.87607729e-04,   6.82961731e-04,   7.61943700e-04,\n",
       "          6.69023736e-04,   6.59731740e-04,   6.64377738e-04,\n",
       "          6.55085742e-04,   6.08625760e-04,   7.20129716e-04,\n",
       "          6.59731740e-04,   6.78315733e-04,   7.01545724e-04,\n",
       "          6.87607729e-04,   7.06191722e-04,   6.59731740e-04,\n",
       "          6.64377738e-04,   5.71457775e-04,   6.22563755e-04,\n",
       "          6.31855751e-04,   7.20129716e-04,   6.82961731e-04,\n",
       "          6.59731740e-04,   6.36501749e-04,   6.08625760e-04,\n",
       "          6.41147747e-04,   6.17917757e-04,   5.80749771e-04,\n",
       "          5.99333764e-04,   6.31855751e-04,   6.73669735e-04,\n",
       "          5.90041768e-04,   6.41147747e-04,   6.27209753e-04,\n",
       "          6.36501749e-04,   6.45793746e-04,   5.76103773e-04,\n",
       "          5.94687766e-04,   6.22563755e-04,   5.62165779e-04,\n",
       "          5.80749771e-04,   6.08625760e-04,   5.71457775e-04,\n",
       "          6.13271758e-04,   5.99333764e-04,   5.76103773e-04,\n",
       "          6.03979762e-04,   5.85395769e-04,   6.03979762e-04,\n",
       "          6.08625760e-04,   5.34289789e-04,   5.90041768e-04,\n",
       "          5.90041768e-04,   5.20351795e-04,   5.20351795e-04,\n",
       "          5.80749771e-04,   5.43581786e-04,   5.38935788e-04,\n",
       "          5.66811777e-04,   5.01767802e-04,   5.20351795e-04,\n",
       "          5.80749771e-04,   5.01767802e-04,   4.78537811e-04,\n",
       "          4.69245815e-04,   5.52873782e-04,   5.24997793e-04,\n",
       "          5.11059799e-04,   5.48227784e-04,   5.57519780e-04,\n",
       "          5.20351795e-04,   4.78537811e-04,   5.06413800e-04,\n",
       "          4.83183810e-04,   5.11059799e-04,   4.55307821e-04,\n",
       "          5.06413800e-04,   4.59953819e-04,   5.01767802e-04,\n",
       "          4.36723828e-04,   4.69245815e-04,   4.97121804e-04,\n",
       "          4.64599817e-04,   4.64599817e-04,   4.78537811e-04,\n",
       "          4.69245815e-04,   4.73891813e-04,   4.13493837e-04,\n",
       "          4.78537811e-04,   4.22785833e-04,   4.87829808e-04,\n",
       "          4.59953819e-04,   4.55307821e-04,   4.32077830e-04,\n",
       "          3.90263846e-04,   3.94909844e-04,   4.13493837e-04,\n",
       "          4.64599817e-04,   4.08847839e-04,   4.36723828e-04,\n",
       "          4.46015824e-04,   4.04201841e-04,   3.85617848e-04,\n",
       "          4.08847839e-04,   3.76325852e-04,   4.13493837e-04,\n",
       "          4.08847839e-04,   4.50661822e-04,   4.46015824e-04,\n",
       "          3.90263846e-04,   4.64599817e-04,   4.08847839e-04,\n",
       "          3.90263846e-04,   4.18139835e-04,   3.99555843e-04,\n",
       "          3.85617848e-04,   4.18139835e-04,   3.80971850e-04,\n",
       "          4.13493837e-04,   4.18139835e-04,   4.32077830e-04,\n",
       "          4.55307821e-04,   3.57741859e-04,   4.18139835e-04,\n",
       "          3.34511868e-04,   3.57741859e-04,   3.90263846e-04,\n",
       "          3.76325852e-04,   3.62387857e-04,   4.18139835e-04,\n",
       "          3.85617848e-04,   4.04201841e-04,   3.76325852e-04,\n",
       "          4.22785833e-04,   3.43803865e-04,   3.71679854e-04,\n",
       "          3.15927876e-04,   3.39157866e-04,   3.62387857e-04,\n",
       "          3.90263846e-04,   4.08847839e-04,   3.80971850e-04,\n",
       "          3.57741859e-04,   3.57741859e-04,   3.90263846e-04,\n",
       "          3.76325852e-04,   3.57741859e-04,   3.20573874e-04,\n",
       "          3.67033855e-04,   3.57741859e-04,   3.34511868e-04,\n",
       "          3.94909844e-04,   3.80971850e-04,   3.67033855e-04,\n",
       "          3.71679854e-04,   3.43803865e-04,   3.20573874e-04,\n",
       "          3.43803865e-04,   3.62387857e-04,   3.71679854e-04,\n",
       "          3.29865870e-04,   3.29865870e-04,   3.57741859e-04,\n",
       "          3.71679854e-04,   3.34511868e-04,   2.88051887e-04,\n",
       "          3.39157866e-04,   3.48449863e-04,   2.92697885e-04,\n",
       "          3.34511868e-04,   3.62387857e-04,   3.15927876e-04,\n",
       "          3.39157866e-04,   3.34511868e-04,   2.92697885e-04,\n",
       "          3.43803865e-04,   3.39157866e-04,   3.11281877e-04,\n",
       "          3.48449863e-04,   3.39157866e-04,   3.29865870e-04,\n",
       "          2.69467894e-04,   2.83405888e-04,   2.41591905e-04,\n",
       "          2.69467894e-04,   3.29865870e-04,   3.06635879e-04,\n",
       "          3.48449863e-04,   3.11281877e-04,   3.11281877e-04,\n",
       "          2.88051887e-04,   2.97343883e-04,   2.83405888e-04,\n",
       "          3.11281877e-04,   2.88051887e-04,   2.97343883e-04,\n",
       "          3.20573874e-04,   2.83405888e-04,   3.01989881e-04,\n",
       "          3.15927876e-04,   3.01989881e-04,   2.55529899e-04,\n",
       "          3.76325852e-04,   2.64821896e-04,   2.69467894e-04,\n",
       "          3.01989881e-04,   2.78759890e-04,   2.78759890e-04,\n",
       "          3.01989881e-04,   2.78759890e-04,   2.64821896e-04,\n",
       "          2.36945907e-04,   2.41591905e-04,   2.36945907e-04,\n",
       "          2.46237903e-04,   2.50883901e-04,   2.46237903e-04,\n",
       "          2.74113892e-04,   2.92697885e-04,   2.46237903e-04,\n",
       "          2.27653910e-04,   2.60175897e-04,   2.74113892e-04,\n",
       "          2.18361914e-04,   2.50883901e-04,   2.64821896e-04,\n",
       "          2.36945907e-04,   2.83405888e-04,   2.41591905e-04,\n",
       "          2.09069918e-04,   2.60175897e-04,   2.46237903e-04,\n",
       "          2.41591905e-04,   2.46237903e-04,   2.46237903e-04,\n",
       "          2.50883901e-04,   2.50883901e-04,   2.36945907e-04,\n",
       "          2.69467894e-04,   2.41591905e-04,   2.64821896e-04,\n",
       "          2.41591905e-04,   2.60175897e-04,   2.74113892e-04,\n",
       "          2.60175897e-04,   2.46237903e-04,   2.41591905e-04,\n",
       "          2.69467894e-04,   2.46237903e-04,   2.23007912e-04,\n",
       "          2.41591905e-04,   2.55529899e-04,   1.99777921e-04,\n",
       "          2.36945907e-04,   2.27653910e-04,   2.36945907e-04,\n",
       "          2.36945907e-04,   2.32299908e-04,   2.18361914e-04,\n",
       "          2.36945907e-04,   2.50883901e-04,   2.46237903e-04,\n",
       "          2.32299908e-04,   1.99777921e-04,   2.55529899e-04,\n",
       "          2.36945907e-04,   2.13715916e-04,   2.78759890e-04,\n",
       "          1.95131923e-04,   2.36945907e-04,   2.09069918e-04,\n",
       "          2.27653910e-04,   2.09069918e-04,   2.36945907e-04,\n",
       "          2.32299908e-04,   2.04423919e-04,   2.27653910e-04,\n",
       "          2.23007912e-04,   1.76547930e-04,   1.90485925e-04,\n",
       "          1.71901932e-04,   1.95131923e-04,   2.04423919e-04,\n",
       "          2.32299908e-04,   2.04423919e-04,   2.18361914e-04,\n",
       "          1.90485925e-04,   1.90485925e-04,   1.99777921e-04,\n",
       "          2.09069918e-04,   2.18361914e-04,   1.85839927e-04,\n",
       "          1.95131923e-04,   2.23007912e-04,   1.95131923e-04,\n",
       "          1.71901932e-04,   1.95131923e-04,   2.18361914e-04,\n",
       "          2.04423919e-04,   2.04423919e-04,   2.27653910e-04,\n",
       "          1.90485925e-04,   2.23007912e-04,   2.09069918e-04,\n",
       "          1.99777921e-04,   2.13715916e-04,   2.27653910e-04,\n",
       "          1.95131923e-04,   1.76547930e-04,   1.44025943e-04,\n",
       "          1.85839927e-04,   1.81193929e-04,   2.32299908e-04,\n",
       "          2.18361914e-04,   1.90485925e-04,   1.81193929e-04,\n",
       "          2.09069918e-04,   2.18361914e-04,   1.76547930e-04,\n",
       "          1.71901932e-04,   2.09069918e-04,   1.99777921e-04,\n",
       "          1.99777921e-04,   2.13715916e-04,   1.90485925e-04,\n",
       "          2.09069918e-04,   2.18361914e-04,   1.71901932e-04,\n",
       "          1.67255934e-04,   2.13715916e-04,   2.04423919e-04,\n",
       "          1.99777921e-04,   1.85839927e-04,   2.09069918e-04,\n",
       "          1.67255934e-04,   1.67255934e-04,   1.81193929e-04,\n",
       "          1.95131923e-04,   1.62609936e-04,   1.99777921e-04,\n",
       "          1.99777921e-04,   1.81193929e-04,   1.99777921e-04,\n",
       "          1.57963938e-04,   1.44025943e-04,   1.85839927e-04,\n",
       "          1.95131923e-04,   1.85839927e-04,   1.67255934e-04,\n",
       "          2.09069918e-04,   1.67255934e-04,   1.90485925e-04,\n",
       "          1.95131923e-04,   1.81193929e-04,   1.48671941e-04,\n",
       "          1.95131923e-04,   1.99777921e-04,   1.62609936e-04,\n",
       "          1.81193929e-04,   1.85839927e-04,   1.57963938e-04,\n",
       "          1.85839927e-04,   1.71901932e-04,   1.85839927e-04,\n",
       "          1.62609936e-04,   1.76547930e-04,   1.76547930e-04,\n",
       "          1.44025943e-04,   1.81193929e-04,   1.71901932e-04,\n",
       "          1.39379945e-04,   1.62609936e-04,   1.48671941e-04,\n",
       "          1.34733947e-04,   1.44025943e-04,   1.76547930e-04,\n",
       "          1.48671941e-04,   1.67255934e-04,   1.39379945e-04,\n",
       "          1.53317940e-04,   1.57963938e-04,   1.57963938e-04,\n",
       "          1.71901932e-04,   1.81193929e-04,   1.62609936e-04,\n",
       "          1.85839927e-04,   1.76547930e-04,   1.53317940e-04,\n",
       "          1.53317940e-04,   1.71901932e-04,   1.53317940e-04,\n",
       "          1.39379945e-04,   1.67255934e-04,   1.25441951e-04,\n",
       "          1.53317940e-04,   1.71901932e-04,   1.57963938e-04,\n",
       "          1.57963938e-04,   1.48671941e-04,   1.30087949e-04,\n",
       "          1.67255934e-04,   1.81193929e-04,   1.71901932e-04,\n",
       "          1.53317940e-04,   1.85839927e-04,   1.85839927e-04,\n",
       "          1.57963938e-04,   1.48671941e-04,   1.81193929e-04,\n",
       "          1.57963938e-04,   1.20795952e-04,   1.48671941e-04,\n",
       "          1.48671941e-04,   1.34733947e-04,   1.48671941e-04,\n",
       "          1.76547930e-04,   1.67255934e-04,   1.81193929e-04,\n",
       "          1.85839927e-04,   1.39379945e-04,   1.53317940e-04,\n",
       "          1.30087949e-04,   1.76547930e-04,   1.30087949e-04,\n",
       "          1.20795952e-04,   1.30087949e-04,   1.81193929e-04,\n",
       "          1.67255934e-04,   1.30087949e-04,   1.44025943e-04,\n",
       "          1.20795952e-04,   1.44025943e-04,   1.48671941e-04,\n",
       "          1.25441951e-04,   1.34733947e-04,   1.44025943e-04,\n",
       "          1.30087949e-04,   1.71901932e-04,   1.34733947e-04,\n",
       "          1.44025943e-04,   1.48671941e-04,   1.67255934e-04,\n",
       "          1.44025943e-04,   1.39379945e-04,   1.30087949e-04,\n",
       "          1.34733947e-04,   1.34733947e-04,   1.34733947e-04,\n",
       "          1.53317940e-04,   1.16149954e-04,   1.34733947e-04,\n",
       "          1.57963938e-04,   1.44025943e-04,   1.48671941e-04,\n",
       "          1.30087949e-04,   1.11503956e-04,   1.57963938e-04,\n",
       "          1.53317940e-04,   1.62609936e-04,   1.57963938e-04,\n",
       "          1.39379945e-04,   1.44025943e-04,   1.53317940e-04,\n",
       "          1.34733947e-04,   1.57963938e-04,   1.30087949e-04,\n",
       "          1.30087949e-04,   1.20795952e-04,   1.62609936e-04,\n",
       "          1.20795952e-04,   1.34733947e-04,   1.16149954e-04,\n",
       "          1.11503956e-04,   9.75659616e-05,   1.34733947e-04,\n",
       "          1.30087949e-04,   1.34733947e-04,   1.30087949e-04,\n",
       "          1.16149954e-04,   1.25441951e-04,   1.44025943e-04,\n",
       "          1.06857958e-04,   1.34733947e-04,   1.25441951e-04,\n",
       "          1.30087949e-04,   1.11503956e-04,   1.25441951e-04,\n",
       "          1.30087949e-04,   9.29199634e-05,   1.34733947e-04,\n",
       "          1.39379945e-04,   1.30087949e-04,   1.48671941e-04,\n",
       "          1.48671941e-04,   1.25441951e-04,   9.75659616e-05,\n",
       "          1.62609936e-04,   1.25441951e-04,   1.39379945e-04,\n",
       "          1.39379945e-04,   1.30087949e-04,   1.34733947e-04,\n",
       "          1.39379945e-04,   1.25441951e-04,   1.30087949e-04,\n",
       "          1.34733947e-04,   1.30087949e-04,   1.02211960e-04,\n",
       "          1.39379945e-04,   8.82739652e-05,   1.48671941e-04,\n",
       "          1.06857958e-04,   1.39379945e-04,   1.20795952e-04,\n",
       "          1.16149954e-04,   1.16149954e-04,   1.06857958e-04,\n",
       "          1.11503956e-04,   1.39379945e-04,   1.20795952e-04,\n",
       "          1.39379945e-04,   1.02211960e-04,   1.44025943e-04,\n",
       "          1.16149954e-04,   1.06857958e-04,   1.34733947e-04,\n",
       "          1.53317940e-04,   9.29199634e-05,   1.20795952e-04,\n",
       "          1.48671941e-04,   1.30087949e-04,   1.11503956e-04,\n",
       "          8.82739652e-05,   1.06857958e-04,   1.34733947e-04,\n",
       "          1.30087949e-04,   1.16149954e-04,   1.39379945e-04,\n",
       "          1.11503956e-04,   1.11503956e-04,   7.89819689e-05,\n",
       "          9.75659616e-05,   1.06857958e-04,   1.11503956e-04,\n",
       "          1.16149954e-04,   1.30087949e-04,   1.48671941e-04,\n",
       "          1.16149954e-04,   1.11503956e-04,   1.20795952e-04,\n",
       "          8.82739652e-05,   1.16149954e-04,   9.75659616e-05,\n",
       "          1.25441951e-04,   9.29199634e-05,   1.11503956e-04,\n",
       "          1.11503956e-04,   1.02211960e-04,   1.02211960e-04,\n",
       "          1.11503956e-04,   9.75659616e-05,   1.06857958e-04,\n",
       "          1.39379945e-04,   1.16149954e-04,   1.20795952e-04,\n",
       "          1.20795952e-04,   1.02211960e-04,   7.89819689e-05,\n",
       "          1.20795952e-04,   1.25441951e-04,   1.11503956e-04,\n",
       "          1.06857958e-04,   1.02211960e-04,   1.25441951e-04,\n",
       "          1.25441951e-04,   1.20795952e-04,   1.06857958e-04,\n",
       "          1.30087949e-04,   7.89819689e-05,   1.02211960e-04,\n",
       "          1.16149954e-04,   1.06857958e-04,   1.20795952e-04,\n",
       "          1.11503956e-04,   1.25441951e-04,   1.16149954e-04,\n",
       "          1.20795952e-04,   1.11503956e-04,   1.11503956e-04,\n",
       "          1.02211960e-04,   1.20795952e-04,   1.06857958e-04,\n",
       "          1.20795952e-04,   1.11503956e-04,   8.82739652e-05,\n",
       "          1.06857958e-04,   1.02211960e-04,   1.11503956e-04,\n",
       "          1.30087949e-04,   1.02211960e-04,   9.75659616e-05,\n",
       "          8.82739652e-05,   1.11503956e-04,   1.02211960e-04,\n",
       "          1.02211960e-04,   1.16149954e-04,   1.06857958e-04,\n",
       "          8.36279671e-05,   1.02211960e-04,   8.82739652e-05,\n",
       "          9.75659616e-05,   8.36279671e-05,   1.06857958e-04,\n",
       "          1.11503956e-04,   1.25441951e-04,   1.16149954e-04,\n",
       "          1.02211960e-04,   9.29199634e-05,   9.29199634e-05,\n",
       "          1.16149954e-04,   1.02211960e-04,   1.11503956e-04,\n",
       "          1.16149954e-04,   1.02211960e-04,   1.02211960e-04,\n",
       "          1.06857958e-04,   1.11503956e-04,   1.06857958e-04,\n",
       "          1.20795952e-04,   1.06857958e-04,   9.29199634e-05,\n",
       "          8.82739652e-05,   9.75659616e-05,   8.36279671e-05,\n",
       "          1.16149954e-04,   8.82739652e-05,   9.29199634e-05,\n",
       "          1.02211960e-04,   1.16149954e-04,   9.75659616e-05,\n",
       "          8.36279671e-05,   9.29199634e-05,   8.36279671e-05,\n",
       "          6.96899725e-05,   9.75659616e-05,   9.75659616e-05,\n",
       "          8.36279671e-05,   9.75659616e-05,   1.02211960e-04,\n",
       "          1.02211960e-04,   1.25441951e-04,   9.29199634e-05,\n",
       "          8.36279671e-05,   1.02211960e-04,   8.36279671e-05,\n",
       "          1.20795952e-04,   1.02211960e-04,   8.36279671e-05,\n",
       "          1.06857958e-04,   7.89819689e-05,   1.11503956e-04,\n",
       "          1.06857958e-04,   1.20795952e-04,   9.75659616e-05,\n",
       "          1.16149954e-04,   9.75659616e-05,   8.82739652e-05,\n",
       "          1.06857958e-04,   9.29199634e-05,   8.36279671e-05,\n",
       "          1.02211960e-04,   8.82739652e-05,   7.43359707e-05,\n",
       "          6.50439744e-05,   9.29199634e-05,   7.89819689e-05,\n",
       "          7.89819689e-05,   1.11503956e-04,   9.75659616e-05,\n",
       "          1.02211960e-04,   9.29199634e-05,   1.02211960e-04,\n",
       "          9.75659616e-05,   9.29199634e-05,   8.82739652e-05,\n",
       "          1.02211960e-04,   1.02211960e-04,   1.06857958e-04,\n",
       "          8.36279671e-05,   1.06857958e-04,   1.02211960e-04,\n",
       "          7.43359707e-05,   8.36279671e-05,   8.36279671e-05,\n",
       "          1.02211960e-04,   9.75659616e-05,   1.02211960e-04,\n",
       "          8.36279671e-05,   1.20795952e-04,   9.29199634e-05,\n",
       "          9.29199634e-05,   7.43359707e-05,   9.29199634e-05,\n",
       "          7.89819689e-05,   9.75659616e-05,   6.96899725e-05,\n",
       "          9.29199634e-05,   6.96899725e-05,   8.82739652e-05,\n",
       "          1.11503956e-04,   1.02211960e-04,   9.29199634e-05,\n",
       "          9.75659616e-05,   7.43359707e-05,   8.82739652e-05,\n",
       "          7.43359707e-05,   8.82739652e-05,   8.82739652e-05,\n",
       "          7.43359707e-05,   7.43359707e-05,   8.82739652e-05,\n",
       "          8.82739652e-05,   9.75659616e-05,   1.02211960e-04,\n",
       "          9.75659616e-05,   8.36279671e-05,   8.82739652e-05,\n",
       "          6.50439744e-05,   1.06857958e-04,   8.82739652e-05,\n",
       "          8.36279671e-05,   5.57519780e-05,   9.29199634e-05,\n",
       "          8.82739652e-05,   9.29199634e-05,   9.75659616e-05,\n",
       "          9.75659616e-05,   1.06857958e-04,   8.36279671e-05,\n",
       "          1.02211960e-04,   7.43359707e-05,   7.89819689e-05,\n",
       "          1.16149954e-04,   9.75659616e-05,   8.82739652e-05,\n",
       "          8.36279671e-05,   7.89819689e-05,   9.29199634e-05,\n",
       "          8.36279671e-05,   8.82739652e-05,   1.02211960e-04,\n",
       "          8.82739652e-05,   7.43359707e-05,   8.36279671e-05,\n",
       "          7.89819689e-05,   1.06857958e-04,   7.43359707e-05,\n",
       "          6.96899725e-05,   1.06857958e-04,   7.89819689e-05,\n",
       "          8.82739652e-05,   6.50439744e-05,   1.06857958e-04,\n",
       "          9.29199634e-05,   7.43359707e-05,   8.36279671e-05,\n",
       "          1.06857958e-04,   6.96899725e-05,   8.82739652e-05,\n",
       "          7.43359707e-05,   9.29199634e-05,   8.82739652e-05,\n",
       "          9.29199634e-05,   7.43359707e-05,   6.50439744e-05,\n",
       "          7.89819689e-05,   8.36279671e-05,   1.11503956e-04,\n",
       "          7.89819689e-05,   7.43359707e-05,   8.82739652e-05,\n",
       "          8.82739652e-05,   8.82739652e-05,   9.29199634e-05,\n",
       "          9.29199634e-05,   8.82739652e-05,   7.43359707e-05,\n",
       "          7.43359707e-05,   9.29199634e-05,   9.75659616e-05,\n",
       "          1.02211960e-04,   9.75659616e-05,   6.96899725e-05,\n",
       "          7.89819689e-05,   5.11059799e-05,   6.96899725e-05,\n",
       "          7.89819689e-05,   8.36279671e-05,   1.06857958e-04,\n",
       "          8.82739652e-05,   6.96899725e-05,   7.43359707e-05,\n",
       "          7.43359707e-05,   9.29199634e-05,   8.36279671e-05,\n",
       "          6.03979762e-05,   9.29199634e-05,   9.75659616e-05,\n",
       "          8.36279671e-05,   6.50439744e-05,   7.89819689e-05,\n",
       "          7.43359707e-05,   9.29199634e-05,   9.29199634e-05,\n",
       "          7.43359707e-05,   5.57519780e-05,   8.36279671e-05,\n",
       "          8.36279671e-05,   6.96899725e-05,   6.50439744e-05,\n",
       "          7.89819689e-05,   7.89819689e-05,   9.75659616e-05,\n",
       "          8.82739652e-05,   7.89819689e-05,   8.36279671e-05,\n",
       "          1.02211960e-04,   7.43359707e-05,   8.82739652e-05,\n",
       "          8.82739652e-05,   6.96899725e-05,   8.36279671e-05,\n",
       "          7.43359707e-05,   8.36279671e-05,   9.29199634e-05,\n",
       "          8.36279671e-05,   7.89819689e-05,   7.89819689e-05,\n",
       "          7.89819689e-05,   7.89819689e-05,   6.96899725e-05,\n",
       "          7.43359707e-05,   7.89819689e-05,   8.36279671e-05,\n",
       "          6.50439744e-05,   6.96899725e-05,   7.43359707e-05,\n",
       "          7.43359707e-05,   5.57519780e-05,   8.36279671e-05,\n",
       "          6.96899725e-05,   7.43359707e-05,   7.43359707e-05,\n",
       "          4.18139835e-05,   8.36279671e-05,   8.36279671e-05,\n",
       "          8.82739652e-05,   7.43359707e-05,   7.43359707e-05,\n",
       "          8.36279671e-05,   7.43359707e-05,   8.36279671e-05,\n",
       "          7.89819689e-05,   6.96899725e-05,   6.96899725e-05,\n",
       "          7.89819689e-05,   7.43359707e-05,   6.03979762e-05,\n",
       "          6.96899725e-05,   8.36279671e-05,   7.89819689e-05,\n",
       "          4.64599817e-05,   7.89819689e-05,   6.96899725e-05,\n",
       "          7.43359707e-05,   5.57519780e-05,   7.89819689e-05,\n",
       "          6.50439744e-05,   7.43359707e-05,   7.43359707e-05,\n",
       "          0.00000000e+00]),\n",
       " array([   0,    1,    2, ...,  998,  999, 1000]),\n",
       " <a list of 1000 Patch objects>)"
      ]
     },
     "execution_count": 48,
     "metadata": {},
     "output_type": "execute_result"
    },
    {
     "data": {
      "image/png": "[encoded data removed]",
      "text/plain": [
       "<matplotlib.figure.Figure at 0x7f5d4db64550>"
      ]
     },
     "metadata": {},
     "output_type": "display_data"
    }
   ],
   "source": [
    "plt.hist(ansList, bins = np.arange(1001),normed=True) "
   ]
  },
  {
   "cell_type": "code",
   "execution_count": 2,
   "metadata": {
    "collapsed": true
   },
   "outputs": [],
   "source": [
    "import io\n",
    "import matplotlib.pyplot as plt\n",
    "import tensorflow as tf"
   ]
  },
  {
   "cell_type": "code",
   "execution_count": 3,
   "metadata": {
    "collapsed": true
   },
   "outputs": [],
   "source": [
    "data1 = [2,1]\n",
    "data2= [1,2] \n",
    "label1 = 'trainData'\n",
    "label2='testData'\n",
    "title = 'train vs test'"
   ]
  },
  {
   "cell_type": "code",
   "execution_count": 4,
   "metadata": {
    "collapsed": true
   },
   "outputs": [],
   "source": [
    "legend1, = plt.plot(data1,label=label1)\n",
    "legend2, = plt.plot(data2,label=label2)"
   ]
  },
  {
   "cell_type": "code",
   "execution_count": 6,
   "metadata": {
    "collapsed": true
   },
   "outputs": [],
   "source": [
    "plt.title(title)    \n",
    "buf = io.BytesIO()\n",
    "plt.savefig(buf, format='png')"
   ]
  },
  {
   "cell_type": "code",
   "execution_count": 13,
   "metadata": {},
   "outputs": [],
   "source": [
    "buf.getvalue()\n",
    "image = tf.image.decode_png(buf.getvalue(), channels = 1)"
   ]
  },
  {
   "cell_type": "code",
   "execution_count": 14,
   "metadata": {},
   "outputs": [
    {
     "data": {
      "text/plain": [
       "<tf.Tensor 'DecodePng:0' shape=(?, ?, 1) dtype=uint8>"
      ]
     },
     "execution_count": 14,
     "metadata": {},
     "output_type": "execute_result"
    }
   ],
   "source": [
    "image"
   ]
  },
  {
   "cell_type": "code",
   "execution_count": 15,
   "metadata": {},
   "outputs": [
    {
     "data": {
      "image/png": "[encoded data removed]",
      "text/plain": [
       "<matplotlib.figure.Figure at 0x7f79ad8e0850>"
      ]
     },
     "metadata": {},
     "output_type": "display_data"
    }
   ],
   "source": [
    "plt.show()"
   ]
  }
 ],
 "metadata": {
  "kernelspec": {
   "display_name": "cv",
   "language": "python",
   "name": "cv"
  },
  "language_info": {
   "codemirror_mode": {
    "name": "ipython",
    "version": 2
   },
   "file_extension": ".py",
   "mimetype": "text/x-python",
   "name": "python",
   "nbconvert_exporter": "python",
   "pygments_lexer": "ipython2",
   "version": "2.7.12"
  }
 },
 "nbformat": 4,
 "nbformat_minor": 2
}
